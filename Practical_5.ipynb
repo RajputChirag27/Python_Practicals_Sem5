{
  "nbformat": 4,
  "nbformat_minor": 0,
  "metadata": {
    "colab": {
      "provenance": [],
      "authorship_tag": "ABX9TyO+vCYLRe8ak8SAJD4ANggX",
      "include_colab_link": true
    },
    "kernelspec": {
      "name": "python3",
      "display_name": "Python 3"
    },
    "language_info": {
      "name": "python"
    }
  },
  "cells": [
    {
      "cell_type": "markdown",
      "metadata": {
        "id": "view-in-github",
        "colab_type": "text"
      },
      "source": [
        "<a href=\"https://colab.research.google.com/github/chirag-star/Python_Practicals_Sem5/blob/main/Practical_5.ipynb\" target=\"_parent\"><img src=\"https://colab.research.google.com/assets/colab-badge.svg\" alt=\"Open In Colab\"/></a>"
      ]
    },
    {
      "cell_type": "code",
      "execution_count": 2,
      "metadata": {
        "colab": {
          "base_uri": "https://localhost:8080/"
        },
        "id": "QjQDv0yRD-JY",
        "outputId": "68217bb8-c178-4dd7-b60c-6005e425b909"
      },
      "outputs": [
        {
          "output_type": "stream",
          "name": "stdout",
          "text": [
            "(3, 8, 1, 6, 0, 8, 4)\n"
          ]
        }
      ],
      "source": [
        "my_Tuple = (3, 8, 1, 6, 0, 8, 4)  # Creating Tuple\n",
        "print (my_Tuple)                  # Printing Tuple"
      ]
    },
    {
      "cell_type": "code",
      "source": [
        "print(\"The length of the tuple is\",len(my_Tuple)) # Printing the length of the tuple"
      ],
      "metadata": {
        "colab": {
          "base_uri": "https://localhost:8080/"
        },
        "id": "JF1md_GDOvPd",
        "outputId": "a6c55a6b-620c-48d7-ce62-401a6554f1e8"
      },
      "execution_count": 3,
      "outputs": [
        {
          "output_type": "stream",
          "name": "stdout",
          "text": [
            "7\n"
          ]
        }
      ]
    },
    {
      "cell_type": "code",
      "source": [
        "print(\"Element 8 is present in the tuple\\n\",8 in my_Tuple)"
      ],
      "metadata": {
        "colab": {
          "base_uri": "https://localhost:8080/"
        },
        "id": "PrVdGw9YQ1Wt",
        "outputId": "9a3cccf0-8fb3-4445-e614-c6d67406e1ff"
      },
      "execution_count": 11,
      "outputs": [
        {
          "output_type": "stream",
          "name": "stdout",
          "text": [
            "Element 8 is present in the tuple\n",
            " True\n"
          ]
        }
      ]
    },
    {
      "cell_type": "code",
      "source": [
        "print(\"Element 5 is present in the tuple\\n\", 5 in my_Tuple)"
      ],
      "metadata": {
        "colab": {
          "base_uri": "https://localhost:8080/"
        },
        "id": "5QjpsYZSRLdW",
        "outputId": "17654b5d-2543-41f2-dd6a-a35f3ffbf2c2"
      },
      "execution_count": 12,
      "outputs": [
        {
          "output_type": "stream",
          "name": "stdout",
          "text": [
            "Element 5 is present in the tuple\n",
            " False\n"
          ]
        }
      ]
    },
    {
      "cell_type": "code",
      "source": [
        "# Remove an Item from Tuple\n",
        "\n",
        "numTuple = (9, 11, 22, 45, 67, 89, 15, 25, 19)\n",
        "print(\"Tuple Items = \", numTuple)\n",
        "\n",
        "numTuple = numTuple[:3] + numTuple[4:]\n",
        "print(\"After Removing 4th Tuple Item = \", numTuple)\n",
        "\n",
        "numTuple = numTuple[:5] + numTuple[7:]\n",
        "print(\"After Removing 5th and 6th Tuple Item = \", numTuple)"
      ],
      "metadata": {
        "colab": {
          "base_uri": "https://localhost:8080/"
        },
        "id": "TA-RWJq3RXPf",
        "outputId": "5d2e2519-deef-4adf-de01-ff242f679db5"
      },
      "execution_count": 13,
      "outputs": [
        {
          "output_type": "stream",
          "name": "stdout",
          "text": [
            "Tuple Items =  (9, 11, 22, 45, 67, 89, 15, 25, 19)\n",
            "After Removing 4th Tuple Item =  (9, 11, 22, 67, 89, 15, 25, 19)\n",
            "After Removing 5th and 6th Tuple Item =  (9, 11, 22, 67, 89, 19)\n"
          ]
        }
      ]
    },
    {
      "cell_type": "code",
      "source": [
        "# Accesing Index of the element\n",
        "myTuple = (\"Ichigo\", 23, 10, \"Naruto\", 17, \"Luffy\");\n",
        "print(myTuple.index(23));\n",
        "print(myTuple.index(\"Luffy\"));"
      ],
      "metadata": {
        "colab": {
          "base_uri": "https://localhost:8080/"
        },
        "id": "9vG1K-zDRtbz",
        "outputId": "88ec4767-a97a-4b39-a929-f3dc62aebe8f"
      },
      "execution_count": 14,
      "outputs": [
        {
          "output_type": "stream",
          "name": "stdout",
          "text": [
            "1\n",
            "5\n"
          ]
        }
      ]
    },
    {
      "cell_type": "code",
      "source": [
        "# Python program to find the repeated items of a Tuple.\n",
        "tup=(1,3,4,32,1,1,1,31,32,12,21,2,3)\n",
        "emptyset = {*()}\n",
        "print(\"The repeated items are: \")\n",
        "for i in tup:\n",
        "  if tup.count(i) > 1:\n",
        "    emptyset.add(i)\n",
        "print(emptyset)\n"
      ],
      "metadata": {
        "colab": {
          "base_uri": "https://localhost:8080/"
        },
        "id": "tzDNAWhkSR8R",
        "outputId": "ab15e8dd-5a2e-4666-aa6d-d5aff55b5e47"
      },
      "execution_count": 21,
      "outputs": [
        {
          "output_type": "stream",
          "name": "stdout",
          "text": [
            "The repeated items are: \n",
            "{32, 1, 3}\n"
          ]
        }
      ]
    }
  ]
}