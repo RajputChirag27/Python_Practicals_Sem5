{
  "nbformat": 4,
  "nbformat_minor": 0,
  "metadata": {
    "colab": {
      "provenance": [],
      "authorship_tag": "ABX9TyOoL+6xiR3AsJfSY0PvlZTP",
      "include_colab_link": true
    },
    "kernelspec": {
      "name": "python3",
      "display_name": "Python 3"
    },
    "language_info": {
      "name": "python"
    }
  },
  "cells": [
    {
      "cell_type": "markdown",
      "metadata": {
        "id": "view-in-github",
        "colab_type": "text"
      },
      "source": [
        "<a href=\"https://colab.research.google.com/github/chirag-star/Python_Practicals_Sem5/blob/main/Practical_4.ipynb\" target=\"_parent\"><img src=\"https://colab.research.google.com/assets/colab-badge.svg\" alt=\"Open In Colab\"/></a>"
      ]
    },
    {
      "cell_type": "markdown",
      "source": [
        "# Practical 4"
      ],
      "metadata": {
        "id": "hczsNw2e4Ly3"
      }
    },
    {
      "cell_type": "code",
      "source": [
        "set = {3, 8, 6, 0, 8, 4}    # Creating Set\n",
        "print(set)                  # Printing Set"
      ],
      "metadata": {
        "colab": {
          "base_uri": "https://localhost:8080/"
        },
        "id": "w7dXmK_u4bJL",
        "outputId": "0b2701fc-5dbe-42fd-da95-65d13422b8d4"
      },
      "execution_count": null,
      "outputs": [
        {
          "output_type": "stream",
          "name": "stdout",
          "text": [
            "{0, 3, 4, 6, 8}\n"
          ]
        }
      ]
    },
    {
      "cell_type": "code",
      "source": [
        "# Adding or Removing element\n",
        "set = {1,2,5,5,2,7}\n",
        "print(set)\n",
        "print(\"After adding element\")\n",
        "set.add(12)   # Adding element\n",
        "print(set)\n",
        "print(\"After removing element\")\n",
        "set.remove(5) # Removing element\n",
        "print(set)"
      ],
      "metadata": {
        "colab": {
          "base_uri": "https://localhost:8080/"
        },
        "id": "btvQpRSI4zVj",
        "outputId": "93f97b6d-0cf6-428a-d09b-4285ab53b4ef"
      },
      "execution_count": null,
      "outputs": [
        {
          "output_type": "stream",
          "name": "stdout",
          "text": [
            "{1, 2, 5, 7}\n",
            "After adding element\n",
            "{1, 2, 5, 7, 12}\n",
            "After removing element\n",
            "{1, 2, 7, 12}\n"
          ]
        }
      ]
    },
    {
      "cell_type": "code",
      "source": [
        "set = {1,5,8,1,2,8,1}\n",
        "n = int(input(\"Enter any number to remove: \"))\n",
        "print(set)\n",
        "if n in set:        # Checking whether the number is present or not\n",
        "    set.remove(n)   # if present then removing it\n",
        "    print(\"After remove operation\")\n",
        "    print(set)\n",
        "else:\n",
        "    print(\"Element not present\")"
      ],
      "metadata": {
        "colab": {
          "base_uri": "https://localhost:8080/"
        },
        "id": "0DZRm6oo5ZOT",
        "outputId": "66562894-5bcd-4771-f69d-fba32d0d2947"
      },
      "execution_count": null,
      "outputs": [
        {
          "output_type": "stream",
          "name": "stdout",
          "text": [
            "Enter any number to remove: 1\n",
            "{8, 1, 2, 5}\n",
            "After remove operation\n",
            "{8, 2, 5}\n"
          ]
        }
      ]
    }
  ]
}