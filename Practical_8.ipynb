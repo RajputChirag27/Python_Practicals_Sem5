{
  "nbformat": 4,
  "nbformat_minor": 0,
  "metadata": {
    "colab": {
      "provenance": [],
      "authorship_tag": "ABX9TyO6DRra3N+OGslZzCDSKS+s",
      "include_colab_link": true
    },
    "kernelspec": {
      "name": "python3",
      "display_name": "Python 3"
    },
    "language_info": {
      "name": "python"
    }
  },
  "cells": [
    {
      "cell_type": "markdown",
      "metadata": {
        "id": "view-in-github",
        "colab_type": "text"
      },
      "source": [
        "<a href=\"https://colab.research.google.com/github/chirag-star/Python_Practicals_Sem5/blob/main/Practical_8.ipynb\" target=\"_parent\"><img src=\"https://colab.research.google.com/assets/colab-badge.svg\" alt=\"Open In Colab\"/></a>"
      ]
    },
    {
      "cell_type": "code",
      "execution_count": null,
      "metadata": {
        "colab": {
          "base_uri": "https://localhost:8080/"
        },
        "id": "K5d0AqQIbOf3",
        "outputId": "05ceeac9-a54b-4622-8d58-9277a52c88d7"
      },
      "outputs": [
        {
          "output_type": "stream",
          "name": "stdout",
          "text": [
            "  200180107001 200180107002 200180107025 200180107059\n",
            "0       Chirag       Zainab          NaN          NaN\n",
            "1          NaN          NaN       Shivam        Savan\n"
          ]
        }
      ],
      "source": [
        "import pandas as pd\n",
        "# Creating a data frame using pandas to store information of students\n",
        "Data = [{200180107001: \"Chirag\", 200180107002: \"Zainab\"}, {200180107025: \"Shivam\", 200180107059: \"Savan\"}]\n",
        "df = pd.DataFrame.from_dict(Data)\n",
        "print(df)"
      ]
    },
    {
      "cell_type": "code",
      "source": [
        "import numpy as np\n",
        "import csv\n",
        "import requests\n",
        "import xml.etree.ElementTree as ET\n",
        "# Create an XML file which stores student’s data. Parse data from a file and create a dataframe object of it.\n",
        "\n",
        "# Creating a Xml File\n",
        "xmldata = '''<?xml version=\"1.0\" encoding=\"UTF-8\"?>\n",
        "        <data>\n",
        "            <Info>\n",
        "            <Msg>Student Data.</Msg>\n",
        "            </Info>        \n",
        "            <student name=\"Chirag\">\n",
        "                <email>csronly4@gmail.com</email>\n",
        "                <grade>A</grade>\n",
        "                <age>19</age>\n",
        "            </student>\n",
        "            <student name=\"Zainab\">\n",
        "                <email>Zainab@gmail.com</email>\n",
        "                <grade>B</grade>\n",
        "                <age>17</age>\n",
        "            </student>\n",
        "            <student name=\"Shivam\">\n",
        "                <email>shivam@gmail.com</email>\n",
        "                <grade>F</grade>\n",
        "                <age>16</age>\n",
        "            </student>\n",
        "            <student name=\"Savan\">\n",
        "                <email>savan@gmail.com</email>\n",
        "                <grade>D</grade>\n",
        "                <age>17</age>\n",
        "            </student>\n",
        "        </data>\n",
        "'''\n",
        "prstree = ET.fromstring(xmldata)\n",
        "root = prstree.tag\n",
        "print(root)\n",
        "store_items = []\n",
        "all_items = []\n",
        "# Gathering Data to display\n",
        "for i in prstree.findall('student'):\n",
        "    name = i.attrib.get('name')\n",
        "    email = i.find('email').text\n",
        "    grade = i.find('grade').text\n",
        "    age = i.find('age').text\n",
        "    store_items = [name, email, grade, age]\n",
        "    all_items.append(store_items)\n",
        "# Naming columns\n",
        "file = pd.DataFrame(all_items, columns=['Name', 'E-mail', 'Grade', 'Age'])\n",
        "print(file.to_string(index=False))"
      ],
      "metadata": {
        "colab": {
          "base_uri": "https://localhost:8080/"
        },
        "id": "PugzBhQMbkUz",
        "outputId": "1a54dd43-618d-4fee-aa87-206afb5f117a"
      },
      "execution_count": null,
      "outputs": [
        {
          "output_type": "stream",
          "name": "stdout",
          "text": [
            "data\n",
            "  Name             E-mail Grade Age\n",
            "Chirag csronly4@gmail.com     A  19\n",
            "Zainab   Zainab@gmail.com     B  17\n",
            "Shivam   shivam@gmail.com     F  16\n",
            " Savan    savan@gmail.com     D  17\n"
          ]
        }
      ]
    },
    {
      "cell_type": "code",
      "source": [
        "# Using datetime module, print current date in “Mon, 31 August 2020‟ format.\n",
        "print(pd.to_datetime(\"today\").strftime(\"%a, %d %b %Y\"))\n",
        "# Add 5 hour and 30 min in current date time and print new datetime.\n",
        "print(\"Current datetime:\", pd.datetime.now())\n",
        "print(\"datetime after adding 5 hour and 30 min:\", pd.datetime.now()+pd.Timedelta('0 Days 5 Hours 30 Minutes 0 Seconds'))\n",
        "# Count your exact age using birthdate and current datetime.\n",
        "born = input(\"Enter birth date in yyyy/mm/dd formate: \")\n",
        "# Taking Input\n",
        "print(\"BirthDate :\", born)\n",
        "born = pd.to_datetime(born)\n",
        "today = pd.datetime.now()\n",
        "print(today)\n",
        "age = today.year - born.year - ((today.month, today.day) < (born.month, born.day))\n",
        "print(\"Your age is \", str(age) + \"Years\")"
      ],
      "metadata": {
        "colab": {
          "base_uri": "https://localhost:8080/"
        },
        "id": "GNSnOPXWbw8-",
        "outputId": "f3bf586b-d3b9-4b6b-9574-5f00bdbb636b"
      },
      "execution_count": null,
      "outputs": [
        {
          "output_type": "stream",
          "name": "stderr",
          "text": [
            "<ipython-input-11-5cb61d66a865>:4: FutureWarning: The pandas.datetime class is deprecated and will be removed from pandas in a future version. Import from datetime module instead.\n",
            "  print(\"Current datetime:\", pd.datetime.now())\n",
            "<ipython-input-11-5cb61d66a865>:5: FutureWarning: The pandas.datetime class is deprecated and will be removed from pandas in a future version. Import from datetime module instead.\n",
            "  print(\"datetime after adding 5 hour and 30 min:\", pd.datetime.now()+pd.Timedelta('0 Days 5 Hours 30 Minutes 0 Seconds'))\n"
          ]
        },
        {
          "output_type": "stream",
          "name": "stdout",
          "text": [
            "Thu, 08 Dec 2022\n",
            "Current datetime: 2022-12-08 11:27:20.457555\n",
            "datetime after adding 5 hour and 30 min: 2022-12-08 16:57:20.460994\n",
            "Enter birth date in yyyy/mm/dd formate: 2002/08/27\n",
            "BirthDate : 2002/08/27\n",
            "2022-12-08 11:27:46.114362\n",
            "Your age is  20Years\n"
          ]
        },
        {
          "output_type": "stream",
          "name": "stderr",
          "text": [
            "<ipython-input-11-5cb61d66a865>:11: FutureWarning: The pandas.datetime class is deprecated and will be removed from pandas in a future version. Import from datetime module instead.\n",
            "  today = pd.datetime.now()\n"
          ]
        }
      ]
    },
    {
      "cell_type": "code",
      "source": [
        "# Show how an Imputer module can be useful to deal with missing values.\n",
        "import numpy as np\n",
        "from sklearn.impute import SimpleImputer\n",
        "# Creating DataFrame\n",
        "imp = SimpleImputer(missing_values=np.nan, strategy='mean')\n",
        "imp.fit([[1, 2], [np.nan, 3], [7, 6]])\n",
        "# Imputing Values\n",
        "SimpleImputer()\n",
        "X = [[np.nan, 2], [6, np.nan], [7, 6]]\n",
        "print(imp.transform(X))"
      ],
      "metadata": {
        "colab": {
          "base_uri": "https://localhost:8080/"
        },
        "id": "PC8m_IeCfWWf",
        "outputId": "ae1f6287-6d44-41f9-ce14-a7138a194f83"
      },
      "execution_count": 2,
      "outputs": [
        {
          "output_type": "stream",
          "name": "stdout",
          "text": [
            "[[4.         2.        ]\n",
            " [6.         3.66666667]\n",
            " [7.         6.        ]]\n"
          ]
        }
      ]
    }
  ]
}