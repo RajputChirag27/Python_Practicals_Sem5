{
  "nbformat": 4,
  "nbformat_minor": 0,
  "metadata": {
    "colab": {
      "provenance": [],
      "authorship_tag": "ABX9TyN4Fo78Pi67AONsrUOaCCBH",
      "include_colab_link": true
    },
    "kernelspec": {
      "name": "python3",
      "display_name": "Python 3"
    },
    "language_info": {
      "name": "python"
    }
  },
  "cells": [
    {
      "cell_type": "markdown",
      "metadata": {
        "id": "view-in-github",
        "colab_type": "text"
      },
      "source": [
        "<a href=\"https://colab.research.google.com/github/chirag-star/Python_Practicals_Sem5/blob/main/Practical_3.ipynb\" target=\"_parent\"><img src=\"https://colab.research.google.com/assets/colab-badge.svg\" alt=\"Open In Colab\"/></a>"
      ]
    },
    {
      "cell_type": "markdown",
      "source": [
        "**Practical 3**"
      ],
      "metadata": {
        "id": "_RcL3KRR0jOK"
      }
    },
    {
      "cell_type": "code",
      "execution_count": null,
      "metadata": {
        "colab": {
          "base_uri": "https://localhost:8080/"
        },
        "id": "4f2QXvoy0Iq4",
        "outputId": "2a5ca513-0a65-4e74-9247-de29ac428ebd"
      },
      "outputs": [
        {
          "output_type": "stream",
          "name": "stdout",
          "text": [
            "[1, 2, 3, 4, 5]\n"
          ]
        }
      ],
      "source": [
        "list = [1,2,3,4,5]  # Creating list\n",
        "print(list)         # Printing list"
      ]
    },
    {
      "cell_type": "code",
      "source": [
        "# Creating list using range function\n",
        "print(\"List using range function\")\n",
        "list2 = [*range(1,11)]\n",
        "print(list2)"
      ],
      "metadata": {
        "colab": {
          "base_uri": "https://localhost:8080/"
        },
        "id": "vvdbg6eD0hY_",
        "outputId": "d636c1e9-a0d5-44db-b013-eccd697ed193"
      },
      "execution_count": null,
      "outputs": [
        {
          "output_type": "stream",
          "name": "stdout",
          "text": [
            "List using range function\n",
            "[1, 2, 3, 4, 5, 6, 7, 8, 9, 10]\n"
          ]
        }
      ]
    },
    {
      "cell_type": "code",
      "source": [
        "# Displaying elements using loop\n",
        "list = [2,5,8,2,87,4]\n",
        "print(\"Displaying element using loop\")\n",
        "for i in list:\n",
        "    print(i)"
      ],
      "metadata": {
        "colab": {
          "base_uri": "https://localhost:8080/"
        },
        "id": "vx9TTId-097u",
        "outputId": "9c633c03-b99f-4b5f-cd22-602270cdbc65"
      },
      "execution_count": null,
      "outputs": [
        {
          "output_type": "stream",
          "name": "stdout",
          "text": [
            "Displaying element using loop\n",
            "2\n",
            "5\n",
            "8\n",
            "2\n",
            "87\n",
            "4\n"
          ]
        }
      ]
    },
    {
      "cell_type": "code",
      "source": [
        "# Reversing a list\n",
        "list = [1,2,4,6,43,4,7,3,]\n",
        "print(\"Displaying the list\\n\",list)\n",
        "list.reverse()\n",
        "print(\"Reversed List\\n\", list)"
      ],
      "metadata": {
        "colab": {
          "base_uri": "https://localhost:8080/"
        },
        "id": "b1P0GDOd1dj0",
        "outputId": "4ad5f6d1-266b-4e6d-d3c6-d99d865b2d52"
      },
      "execution_count": null,
      "outputs": [
        {
          "output_type": "stream",
          "name": "stdout",
          "text": [
            "Displaying the list\n",
            " [1, 2, 4, 6, 43, 4, 7, 3]\n",
            "Reversed List\n",
            " [3, 7, 4, 43, 6, 4, 2, 1]\n"
          ]
        }
      ]
    },
    {
      "cell_type": "code",
      "source": [
        "# Various list functions\n",
        "list.sort()                              # Sorting list\n",
        "print(\"Sorted list\", list)\n",
        "list3 = list.copy()                      # Coping list\n",
        "print(\"Copied list\", list3)\n",
        "print(\"Cleared list\", list3.clear())     # Clearing list\n",
        "print(\"count in list\", list.count(5)) # Counting element in list\n",
        "print(\"Removing an element\", list.pop()) # poping the elements in list"
      ],
      "metadata": {
        "colab": {
          "base_uri": "https://localhost:8080/"
        },
        "id": "cw73TnGq1_Mh",
        "outputId": "de53a193-0f14-4f28-f42c-65f8932d615b"
      },
      "execution_count": null,
      "outputs": [
        {
          "output_type": "stream",
          "name": "stdout",
          "text": [
            "Sorted list [1, 2, 3, 4, 4, 6, 7]\n",
            "Copied list [1, 2, 3, 4, 4, 6, 7]\n",
            "Cleared list None\n",
            "count in list 0\n",
            "Removing an element 7\n"
          ]
        }
      ]
    }
  ]
}