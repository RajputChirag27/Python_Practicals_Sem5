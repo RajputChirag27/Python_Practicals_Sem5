{
  "nbformat": 4,
  "nbformat_minor": 0,
  "metadata": {
    "colab": {
      "provenance": [],
      "authorship_tag": "ABX9TyNlOh3gOT4R7zjzwAxBiSE4",
      "include_colab_link": true
    },
    "kernelspec": {
      "name": "python3",
      "display_name": "Python 3"
    },
    "language_info": {
      "name": "python"
    }
  },
  "cells": [
    {
      "cell_type": "markdown",
      "metadata": {
        "id": "view-in-github",
        "colab_type": "text"
      },
      "source": [
        "<a href=\"https://colab.research.google.com/github/chirag-star/Python_Practicals_Sem5/blob/main/Practical_10.ipynb\" target=\"_parent\"><img src=\"https://colab.research.google.com/assets/colab-badge.svg\" alt=\"Open In Colab\"/></a>"
      ]
    },
    {
      "cell_type": "code",
      "execution_count": 7,
      "metadata": {
        "colab": {
          "base_uri": "https://localhost:8080/"
        },
        "id": "yYuG_62E5GF5",
        "outputId": "66ea5c8c-0e2a-4c41-e4d9-4e76170d88bd"
      },
      "outputs": [
        {
          "output_type": "stream",
          "name": "stdout",
          "text": [
            "                                    Product Name   Prices Ratings\n",
            "0          SAMSUNG Galaxy S22 5G (Green, 128 GB)  ₹53,900     4.3\n",
            "1          SAMSUNG Galaxy S22 5G (Green, 256 GB)  ₹91,999     4.3\n",
            "2  SAMSUNG Galaxy S22 5G (Phantom Black, 128 GB)  ₹57,699     4.3\n",
            "3  SAMSUNG Galaxy S22 5G (Phantom White, 128 GB)  ₹57,699     4.3\n",
            "4  SAMSUNG Galaxy S22 5G (Phantom Black, 128 GB)  ₹54,900     4.3\n"
          ]
        }
      ],
      "source": [
        "from bs4 import BeautifulSoup\n",
        "import requests\n",
        "import pandas as pd\n",
        "# Giving the link to do web scrapping\n",
        "url=\"https://www.flipkart.com/search?q=samsung+s22&otracker=search&otracker1=search&marketplace=FLIPKART&as-show=off&as=off\"\n",
        "response = requests.get(url)\n",
        "# converting to html\n",
        "html_content = response.content\n",
        "soup = BeautifulSoup(html_content, \"html.parser\")\n",
        "products = []\n",
        "prices = []\n",
        "ratings = []\n",
        "for a in soup.findAll('a', href=True, attrs={'class': '_1fQZEK'}):\n",
        "    name = a.find('div', attrs={'class': '_4rR01T'})\n",
        "    price = a.find('div', attrs={'class': '_30jeq3 _1_WHN1'})\n",
        "    rating = a.find('div', attrs={'class': '_3LWZlK'})\n",
        "    products.append(name.text)\n",
        "    prices.append(price.text)\n",
        "    ratings.append(rating.text)\n",
        "# Making the data frame\n",
        "df = pd.DataFrame({'Product Name': products, 'Prices': prices, 'Ratings': ratings})\n",
        "print(df.head())"
      ]
    }
  ]
}