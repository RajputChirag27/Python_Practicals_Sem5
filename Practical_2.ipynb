{
  "nbformat": 4,
  "nbformat_minor": 0,
  "metadata": {
    "colab": {
      "provenance": [],
      "authorship_tag": "ABX9TyOxA4blo+P700sG+ex+/y0F",
      "include_colab_link": true
    },
    "kernelspec": {
      "name": "python3",
      "display_name": "Python 3"
    },
    "language_info": {
      "name": "python"
    }
  },
  "cells": [
    {
      "cell_type": "markdown",
      "metadata": {
        "id": "view-in-github",
        "colab_type": "text"
      },
      "source": [
        "<a href=\"https://colab.research.google.com/github/chirag-star/Python_Practicals_Sem5/blob/main/Practical_2.ipynb\" target=\"_parent\"><img src=\"https://colab.research.google.com/assets/colab-badge.svg\" alt=\"Open In Colab\"/></a>"
      ]
    },
    {
      "cell_type": "markdown",
      "source": [
        "**Practical 2**"
      ],
      "metadata": {
        "id": "rHZ4_CZQsaNG"
      }
    },
    {
      "cell_type": "code",
      "execution_count": 1,
      "metadata": {
        "colab": {
          "base_uri": "https://localhost:8080/",
          "height": 0
        },
        "id": "bILK40LvokMn",
        "outputId": "3d736f7c-3217-4c3b-c73a-1813ad0c0fca"
      },
      "outputs": [
        {
          "output_type": "stream",
          "name": "stdout",
          "text": [
            "12\n"
          ]
        }
      ],
      "source": [
        "a =12       # Declaring Variable in Python\n",
        "print(a)    # Printing the variable"
      ]
    },
    {
      "cell_type": "code",
      "source": [
        "num = 65                #Declaring a integer\n",
        "name = \"Chirag\"         #Declaring a String\n",
        "bool = False            #Declaring a boolean\n",
        "Length = 47.124         #Declaring a float\n",
        "print(type(num))        #Printing num\n",
        "print(type(name))       #Printing name\n",
        "print(type(bool))       #Printing bool\n",
        "print(type(Length))     #Printing Length"
      ],
      "metadata": {
        "colab": {
          "base_uri": "https://localhost:8080/",
          "height": 0
        },
        "id": "ErQGt9vCo26A",
        "outputId": "6c19df47-cd6d-486a-b420-cc3dbe8f6113"
      },
      "execution_count": 2,
      "outputs": [
        {
          "output_type": "stream",
          "name": "stdout",
          "text": [
            "<class 'int'>\n",
            "<class 'str'>\n",
            "<class 'bool'>\n",
            "<class 'float'>\n"
          ]
        }
      ]
    },
    {
      "cell_type": "code",
      "source": [
        "name = input(\"Enter the name \")   #Taking String input\n",
        "age = input(\"Enter the age \")     #Taking Integer input\n",
        "add = input(\"Enter the address \") #Taking String input\n",
        "print(\"The name is \", name)      #Printing name\n",
        "print(\"The age is \", age)        #Printing age\n",
        "print(\"The Adress is \", add)     #Printing Adress"
      ],
      "metadata": {
        "colab": {
          "base_uri": "https://localhost:8080/"
        },
        "id": "K0KVUm6EpatM",
        "outputId": "39d5e91a-250f-413b-831f-d5130294ffe7"
      },
      "execution_count": 4,
      "outputs": [
        {
          "output_type": "stream",
          "name": "stdout",
          "text": [
            "Enter the name Chirag\n",
            "Enter the age 20\n",
            "Enter the address Vrindavan Society, Aurangabad\n",
            "The name is  Chirag\n",
            "The age is  20\n",
            "The Adress is  Vrindavan Society, Aurangabad\n"
          ]
        }
      ]
    },
    {
      "cell_type": "code",
      "source": [
        "a=int(input(\"Enter value of number 1 \")) #Taking Input of three Integers\n",
        "b=int(input(\"Enter value of number 2 \"))\n",
        "c=int(input(\"Enter value of number 3 \"))\n",
        "print(\"Sum:\",a+b+c)                     #printing sum\n",
        "print (\"Average:\",(a+b+c)/3)            #printing average"
      ],
      "metadata": {
        "colab": {
          "base_uri": "https://localhost:8080/"
        },
        "id": "EXPlExb9qbO3",
        "outputId": "f11a0646-8138-4a38-e89a-5d173f0dc526"
      },
      "execution_count": 6,
      "outputs": [
        {
          "output_type": "stream",
          "name": "stdout",
          "text": [
            "Enter value of number 1 10\n",
            "Enter value of number 2 2\n",
            "Enter value of number 3 15\n",
            "Sum: 27\n",
            "Average: 9.0\n"
          ]
        }
      ]
    },
    {
      "cell_type": "code",
      "source": [
        "radius = float(input(\"Enter radius to find area \")) #Taking radius as input\n",
        "print(\"Area:\" ,float((22/7)*radius*radius),\"sq.m\")"
      ],
      "metadata": {
        "colab": {
          "base_uri": "https://localhost:8080/"
        },
        "id": "Q_VxMVXHrKRf",
        "outputId": "cec27fa1-7ac1-4f53-afbc-42d5d9b801b0"
      },
      "execution_count": 12,
      "outputs": [
        {
          "output_type": "stream",
          "name": "stdout",
          "text": [
            "Enter radius to find area 14\n",
            "Area: 616.0 sq.m\n"
          ]
        }
      ]
    },
    {
      "cell_type": "code",
      "source": [
        "days=int(input(\"Enter days: \")) #Taking the input\n",
        "print (\"Month:\",int(days/30))  #Converting in months\n",
        "print (\"days:\",int(days%30))   #Converting in days"
      ],
      "metadata": {
        "colab": {
          "base_uri": "https://localhost:8080/"
        },
        "id": "OGc9a5bbrqmW",
        "outputId": "54f30413-8e71-412a-fe38-e9f9bac4639e"
      },
      "execution_count": 14,
      "outputs": [
        {
          "output_type": "stream",
          "name": "stdout",
          "text": [
            "Enter days: 155\n",
            "Month: 5\n",
            "days: 5\n"
          ]
        }
      ]
    }
  ]
}