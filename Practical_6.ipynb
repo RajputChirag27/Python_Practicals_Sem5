{
  "nbformat": 4,
  "nbformat_minor": 0,
  "metadata": {
    "colab": {
      "provenance": [],
      "authorship_tag": "ABX9TyPT42XMVGUW2CipAU6ZkZOc",
      "include_colab_link": true
    },
    "kernelspec": {
      "name": "python3",
      "display_name": "Python 3"
    },
    "language_info": {
      "name": "python"
    }
  },
  "cells": [
    {
      "cell_type": "markdown",
      "metadata": {
        "id": "view-in-github",
        "colab_type": "text"
      },
      "source": [
        "<a href=\"https://colab.research.google.com/github/chirag-star/Python_Practicals_Sem5/blob/main/Practical_6.ipynb\" target=\"_parent\"><img src=\"https://colab.research.google.com/assets/colab-badge.svg\" alt=\"Open In Colab\"/></a>"
      ]
    },
    {
      "cell_type": "code",
      "execution_count": 1,
      "metadata": {
        "colab": {
          "base_uri": "https://localhost:8080/"
        },
        "id": "aFhviEBHUru4",
        "outputId": "db4a9c50-ee79-4873-f2f6-71c72b8d7e25"
      },
      "outputs": [
        {
          "output_type": "stream",
          "name": "stdout",
          "text": [
            "{'brand': 'Ford', 'model': 'Mustang', 'year': 1964}\n"
          ]
        }
      ],
      "source": [
        "# Creating a dictionary\n",
        "thisdict = {  \"brand\": \"Ford\",  \"model\": \"Mustang\",  \"year\": 1964 }\n",
        "print(thisdict)"
      ]
    },
    {
      "cell_type": "code",
      "source": [
        "# Python script to add a key and value to a dictionary. \n",
        "Dict = {0: 10,1: 20} \n",
        "print(Dict)\n",
        "Dict[2]= 30\n",
        "print(\"After adding\")\n",
        "print(Dict)"
      ],
      "metadata": {
        "colab": {
          "base_uri": "https://localhost:8080/"
        },
        "id": "gyX0GlLxX-Su",
        "outputId": "e001c8ab-cce9-44d8-973a-c94ca6b59280"
      },
      "execution_count": 8,
      "outputs": [
        {
          "output_type": "stream",
          "name": "stdout",
          "text": [
            "{0: 10, 1: 20}\n",
            "After adding\n",
            "{0: 10, 1: 20, 2: 30}\n"
          ]
        }
      ]
    },
    {
      "cell_type": "code",
      "source": [
        "# Printing Key Value Pair\n",
        "print (\"Dict key-value are : \")\n",
        "for key, value in thisdict.items():\n",
        "    print (key, value)"
      ],
      "metadata": {
        "colab": {
          "base_uri": "https://localhost:8080/"
        },
        "id": "UdPje23qU_MU",
        "outputId": "0da05bc5-79e8-4f99-edb7-522c4ea042b0"
      },
      "execution_count": 2,
      "outputs": [
        {
          "output_type": "stream",
          "name": "stdout",
          "text": [
            "Dict key-value are : \n",
            "brand Ford\n",
            "model Mustang\n",
            "year 1964\n"
          ]
        }
      ]
    },
    {
      "cell_type": "code",
      "source": [
        "# Extracting Values from Keys\n",
        "test_dict = {\"Chirag\" : 2, \"Shivam\" : 4, \"Tapan\" : 6}\n",
        "K = \"Shivam\"\n",
        "print(\"The original Dictionary : \" + str(test_dict))\n",
        "if K in test_dict.keys():\n",
        "    res=test_dict[K]\n",
        "print(\"Extracted Value : \" + str(res))"
      ],
      "metadata": {
        "colab": {
          "base_uri": "https://localhost:8080/"
        },
        "id": "3t3Szs90V510",
        "outputId": "482a4f3f-3bfc-4ea3-811b-6fa12c1661e7"
      },
      "execution_count": 3,
      "outputs": [
        {
          "output_type": "stream",
          "name": "stdout",
          "text": [
            "The original Dictionary : {'Chirag': 2, 'Shivam': 4, 'Tapan': 6}\n",
            "Extracted Value : 4\n"
          ]
        }
      ]
    },
    {
      "cell_type": "code",
      "source": [
        "# Extracting keys from values\n",
        "dic = {\"Chirag\" : 2, \"Shivam\" : 4, \"Tapan\" : 6}\n",
        "value = {i for i in dic if dic[i]==6}\n",
        "print(\"key by value:\",value)"
      ],
      "metadata": {
        "colab": {
          "base_uri": "https://localhost:8080/"
        },
        "id": "ZwZQhC6QW4Om",
        "outputId": "9aa6fed2-e675-4410-b981-42eb4be28173"
      },
      "execution_count": 6,
      "outputs": [
        {
          "output_type": "stream",
          "name": "stdout",
          "text": [
            "key by value: {'Tapan'}\n"
          ]
        }
      ]
    },
    {
      "cell_type": "code",
      "source": [
        "# Concatenate more than one dictionary\n",
        "Dict_1 = {1: 10, 2: 20}\n",
        "print(Dict_1)\n",
        "Dict_2 = {3: 30, 4: 40}\n",
        "print(Dict_2)\n",
        "Dict_3 = {5: 50, 6: 60}\n",
        "print(Dict_3)\n",
        "Dict = {**Dict_1, **Dict_2, **Dict_3}     # Concatenating All dictionaries in one\n",
        "print(Dict)"
      ],
      "metadata": {
        "colab": {
          "base_uri": "https://localhost:8080/"
        },
        "id": "DV4HO8COXLrK",
        "outputId": "85bfdb1d-70ac-4c3c-fe6f-65b6b71ab0db"
      },
      "execution_count": 7,
      "outputs": [
        {
          "output_type": "stream",
          "name": "stdout",
          "text": [
            "{1: 10, 2: 20}\n",
            "{3: 30, 4: 40}\n",
            "{5: 50, 6: 60}\n",
            "{1: 10, 2: 20, 3: 30, 4: 40, 5: 50, 6: 60}\n"
          ]
        }
      ]
    }
  ]
}